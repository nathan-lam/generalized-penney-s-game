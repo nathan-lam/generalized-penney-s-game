{
  "nbformat": 4,
  "nbformat_minor": 0,
  "metadata": {
    "colab": {
      "name": "penney's game.ipynb",
      "provenance": [],
      "collapsed_sections": []
    },
    "kernelspec": {
      "name": "python3",
      "display_name": "Python 3"
    },
    "language_info": {
      "name": "python"
    }
  },
  "cells": [
    {
      "cell_type": "markdown",
      "metadata": {
        "id": "HOnTjynxL2un"
      },
      "source": [
        "#Intro\n",
        "Penney's game is a 2 player nontransitive game that can be done using a deck of cards or filling some coins. It is needed that each binary state is roughly 50-50\n",
        "\n",
        "Two players start by guessing a string of binary states such as HHT or TTT  \n",
        "and the goal is to see who's string appears first. Each string is known to everyone\n",
        "\n",
        "\n",
        "When first published, Penney's game uses a string of 3 heads or tails. It has also been shown that red-black cards of a deck of cards is approximate to the probabilities\n",
        "\n",
        "#Goal\n",
        "This python notebooks seeks \n",
        "1. To generalize the game to a string of length n by utilizing markov chains. \n",
        "2. To generalize the game to include m players\n",
        "3. To generalize the game to include multiple states"
      ]
    },
    {
      "cell_type": "code",
      "metadata": {
        "id": "m35ZkfhImHu2"
      },
      "source": [
        "import numpy as np\n",
        "import pandas as pd\n",
        "import itertools as it\n",
        "import math\n",
        "from scipy.special import comb\n",
        "from numpy.linalg import eig\n",
        "import time"
      ],
      "execution_count": 2,
      "outputs": []
    },
    {
      "cell_type": "markdown",
      "metadata": {
        "id": "n9PEg-YVfTjl"
      },
      "source": [
        "#Finding the probabilities\n",
        "\n",
        "There are various methods to find the probabilities of a given set of unique sequences.\n",
        "\n",
        "I will go over 3 methods:  \n",
        "1. Markov Chains\n",
        "2. Conway's Algorithm v1\n",
        "3. Conway's Alorithm v2\n",
        "\n",
        "Conway's algorithm returns the odds of each sequence, which is equivalent to the probability\n",
        "\n",
        "\n"
      ]
    },
    {
      "cell_type": "markdown",
      "metadata": {
        "id": "qRE9mF8Lhhey"
      },
      "source": [
        "## Markov Chains\n",
        "\n",
        "A markov chain is represented by a transition matrix and because the game ends when one of the given patterns matches, these states have a 100% of ending on itself again, essentially ending the chain. (Replacing a row with a row from an identity matrix)\n",
        "\n",
        "After swapping the rows, the matrix is meant to converge to infinity  \n",
        "$\\lim_{n \\to \\infty} M^n = P$, $M$ = transition matrix\n",
        "\n",
        "After converging, we multiply with the stationary distribution of the unmodified transition matrix (which is uniform)\n",
        "\n",
        "We can get the probabilities like this:  \n",
        "\n",
        "(row vec of prob) = (row vec of uniform weights) * $P$\n"
      ]
    },
    {
      "cell_type": "markdown",
      "metadata": {
        "id": "jGYyeO_QNKIU"
      },
      "source": [
        "I will be using binary to represent the states where H=0 and T=1  \n",
        "\n",
        "So 010 = HTH  \n",
        "\n",
        "\n",
        "The matrix forms a diagonal matrix that resembles some stairsteps"
      ]
    },
    {
      "cell_type": "code",
      "metadata": {
        "colab": {
          "base_uri": "https://localhost:8080/"
        },
        "id": "15jnpX7IvNz2",
        "outputId": "49de848c-2276-4002-dfbd-73b77f9715ec"
      },
      "source": [
        "#function to translate decimal to an arbritrary base\n",
        "\n",
        "def baseb(n, b, length=None):\n",
        "  #if type(n) is str:\n",
        "  #  n = int(n)\n",
        "  #e = n//b\n",
        "  #q = n%b\n",
        "  if n == 0:\n",
        "    return '0'*length\n",
        "  elif length is None:\n",
        "    length = math.floor(1+math.log(n,b))\n",
        "\n",
        "  new_base = ''\n",
        "  while n!=0:\n",
        "    r = n%b\n",
        "    n=n//b\n",
        "    \n",
        "    new_base = str(r) + new_base\n",
        "  lngth = len(new_base)\n",
        "  if lngth < length:\n",
        "    new_base = (length-lngth)*'0' + new_base\n",
        "  return new_base\n",
        "\n",
        "for i in range(10):\n",
        "  print(baseb(i, 2, 4),'i =',i)"
      ],
      "execution_count": 3,
      "outputs": [
        {
          "output_type": "stream",
          "name": "stdout",
          "text": [
            "0000 i = 0\n",
            "0001 i = 1\n",
            "0010 i = 2\n",
            "0011 i = 3\n",
            "0100 i = 4\n",
            "0101 i = 5\n",
            "0110 i = 6\n",
            "0111 i = 7\n",
            "1000 i = 8\n",
            "1001 i = 9\n"
          ]
        }
      ]
    },
    {
      "cell_type": "markdown",
      "metadata": {
        "id": "G_nM-kW4kpNM"
      },
      "source": [
        "In the make_markov function, weights are considered, which are the weights the next flip will be.\n",
        "\n",
        "So P(0) = 0.5, P(1) = 0.5 (base 2)  \n",
        "or P(0) = 0.3, P(1) = 0.3, P(2) = 0.4 (base 3)"
      ]
    },
    {
      "cell_type": "code",
      "metadata": {
        "colab": {
          "base_uri": "https://localhost:8080/",
          "height": 318
        },
        "id": "VkCDeqhGmEgX",
        "outputId": "a0de2467-ab55-4ece-bfe4-425e89213613"
      },
      "source": [
        "#generating markov matrix\n",
        "def make_markov(mtx_length, base, weights = None):\n",
        "\n",
        "  if weights == None:\n",
        "    weights = np.ones(base)\n",
        "  assert len(weights) == base, \"Incorrect number of weights\"\n",
        "\n",
        "  #get identity/2\n",
        "  step1 = np.eye(mtx_length//base, dtype=float)/base\n",
        "\n",
        "  #interweave columns of identity/2 with itself\n",
        "  step2 = np.zeros((step1.shape[0], step1.shape[0]*base))\n",
        "  for i in range(base):\n",
        "    step2[:,i::base] = step1*weights[i]/np.sum(weights) #interweaving\n",
        "\n",
        "  #append a copy to the bottom\n",
        "  step3 = step2.copy()\n",
        "  for _ in range(base-1):\n",
        "    step3 = np.append(step3,step2, axis=0)\n",
        "\n",
        "  #done\n",
        "  return step3\n",
        "\n",
        "\n",
        "def get_states(mtx_length, base=2, length = None):\n",
        "  #turns base to decimal\n",
        "\n",
        "  #handling bad cases for given length\n",
        "  min_digits = math.floor(1+math.log(mtx_length-1,base))\n",
        "  if length is None or length < min_digits:\n",
        "    length = min_digits\n",
        "\n",
        "  states = {}\n",
        "  for i in range(mtx_length):\n",
        "    states[baseb(i, base, length)] = i\n",
        "  return states\n",
        "\n",
        "\n",
        "#length of subset of interest\n",
        "length = 3\n",
        "base = 2\n",
        "mtx_length = base**length #side length of matrix\n",
        "\n",
        "print(get_states(mtx_length,base,length))\n",
        "\n",
        "matrix = make_markov(mtx_length, base, [1,2])\n",
        "\n",
        "#displaying markov matrix in a dataframe\n",
        "pd.DataFrame(matrix)"
      ],
      "execution_count": 11,
      "outputs": [
        {
          "output_type": "stream",
          "name": "stdout",
          "text": [
            "{'000': 0, '001': 1, '010': 2, '011': 3, '100': 4, '101': 5, '110': 6, '111': 7}\n"
          ]
        },
        {
          "output_type": "execute_result",
          "data": {
            "text/html": [
              "<div>\n",
              "<style scoped>\n",
              "    .dataframe tbody tr th:only-of-type {\n",
              "        vertical-align: middle;\n",
              "    }\n",
              "\n",
              "    .dataframe tbody tr th {\n",
              "        vertical-align: top;\n",
              "    }\n",
              "\n",
              "    .dataframe thead th {\n",
              "        text-align: right;\n",
              "    }\n",
              "</style>\n",
              "<table border=\"1\" class=\"dataframe\">\n",
              "  <thead>\n",
              "    <tr style=\"text-align: right;\">\n",
              "      <th></th>\n",
              "      <th>0</th>\n",
              "      <th>1</th>\n",
              "      <th>2</th>\n",
              "      <th>3</th>\n",
              "      <th>4</th>\n",
              "      <th>5</th>\n",
              "      <th>6</th>\n",
              "      <th>7</th>\n",
              "    </tr>\n",
              "  </thead>\n",
              "  <tbody>\n",
              "    <tr>\n",
              "      <th>0</th>\n",
              "      <td>0.166667</td>\n",
              "      <td>0.333333</td>\n",
              "      <td>0.000000</td>\n",
              "      <td>0.000000</td>\n",
              "      <td>0.000000</td>\n",
              "      <td>0.000000</td>\n",
              "      <td>0.000000</td>\n",
              "      <td>0.000000</td>\n",
              "    </tr>\n",
              "    <tr>\n",
              "      <th>1</th>\n",
              "      <td>0.000000</td>\n",
              "      <td>0.000000</td>\n",
              "      <td>0.166667</td>\n",
              "      <td>0.333333</td>\n",
              "      <td>0.000000</td>\n",
              "      <td>0.000000</td>\n",
              "      <td>0.000000</td>\n",
              "      <td>0.000000</td>\n",
              "    </tr>\n",
              "    <tr>\n",
              "      <th>2</th>\n",
              "      <td>0.000000</td>\n",
              "      <td>0.000000</td>\n",
              "      <td>0.000000</td>\n",
              "      <td>0.000000</td>\n",
              "      <td>0.166667</td>\n",
              "      <td>0.333333</td>\n",
              "      <td>0.000000</td>\n",
              "      <td>0.000000</td>\n",
              "    </tr>\n",
              "    <tr>\n",
              "      <th>3</th>\n",
              "      <td>0.000000</td>\n",
              "      <td>0.000000</td>\n",
              "      <td>0.000000</td>\n",
              "      <td>0.000000</td>\n",
              "      <td>0.000000</td>\n",
              "      <td>0.000000</td>\n",
              "      <td>0.166667</td>\n",
              "      <td>0.333333</td>\n",
              "    </tr>\n",
              "    <tr>\n",
              "      <th>4</th>\n",
              "      <td>0.166667</td>\n",
              "      <td>0.333333</td>\n",
              "      <td>0.000000</td>\n",
              "      <td>0.000000</td>\n",
              "      <td>0.000000</td>\n",
              "      <td>0.000000</td>\n",
              "      <td>0.000000</td>\n",
              "      <td>0.000000</td>\n",
              "    </tr>\n",
              "    <tr>\n",
              "      <th>5</th>\n",
              "      <td>0.000000</td>\n",
              "      <td>0.000000</td>\n",
              "      <td>0.166667</td>\n",
              "      <td>0.333333</td>\n",
              "      <td>0.000000</td>\n",
              "      <td>0.000000</td>\n",
              "      <td>0.000000</td>\n",
              "      <td>0.000000</td>\n",
              "    </tr>\n",
              "    <tr>\n",
              "      <th>6</th>\n",
              "      <td>0.000000</td>\n",
              "      <td>0.000000</td>\n",
              "      <td>0.000000</td>\n",
              "      <td>0.000000</td>\n",
              "      <td>0.166667</td>\n",
              "      <td>0.333333</td>\n",
              "      <td>0.000000</td>\n",
              "      <td>0.000000</td>\n",
              "    </tr>\n",
              "    <tr>\n",
              "      <th>7</th>\n",
              "      <td>0.000000</td>\n",
              "      <td>0.000000</td>\n",
              "      <td>0.000000</td>\n",
              "      <td>0.000000</td>\n",
              "      <td>0.000000</td>\n",
              "      <td>0.000000</td>\n",
              "      <td>0.166667</td>\n",
              "      <td>0.333333</td>\n",
              "    </tr>\n",
              "  </tbody>\n",
              "</table>\n",
              "</div>"
            ],
            "text/plain": [
              "          0         1         2  ...         5         6         7\n",
              "0  0.166667  0.333333  0.000000  ...  0.000000  0.000000  0.000000\n",
              "1  0.000000  0.000000  0.166667  ...  0.000000  0.000000  0.000000\n",
              "2  0.000000  0.000000  0.000000  ...  0.333333  0.000000  0.000000\n",
              "3  0.000000  0.000000  0.000000  ...  0.000000  0.166667  0.333333\n",
              "4  0.166667  0.333333  0.000000  ...  0.000000  0.000000  0.000000\n",
              "5  0.000000  0.000000  0.166667  ...  0.000000  0.000000  0.000000\n",
              "6  0.000000  0.000000  0.000000  ...  0.333333  0.000000  0.000000\n",
              "7  0.000000  0.000000  0.000000  ...  0.000000  0.166667  0.333333\n",
              "\n",
              "[8 rows x 8 columns]"
            ]
          },
          "metadata": {},
          "execution_count": 11
        }
      ]
    },
    {
      "cell_type": "markdown",
      "metadata": {
        "id": "rx91CT9IOu7D"
      },
      "source": [
        "A step in the matix has length = base and the stairs repeat = base"
      ]
    },
    {
      "cell_type": "code",
      "metadata": {
        "colab": {
          "base_uri": "https://localhost:8080/"
        },
        "id": "H5-kgCfDnA8R",
        "outputId": "d94578ba-f00e-4ecc-eb1a-af48191152ff"
      },
      "source": [
        "\n",
        "#function to get the probabilities when comparing 2 strings\n",
        "def get_probabilities(players, base = 2, length=None):\n",
        "  '''\n",
        "  players = list of binary strings like [001, 111]\n",
        "  base = numerical base, will be refered to as base\n",
        "  length = length of string\n",
        "  '''\n",
        "\n",
        "  if length == None:\n",
        "    length = len(players[0])\n",
        "  assert all([ length == k for k in [len(i) for i in players] ]), \"Given lengths does not all match\"\n",
        "  \n",
        "\n",
        "  mtx_length = base**length\n",
        "\n",
        "  #reference to change base to decimal and vice versa\n",
        "  states = get_states(mtx_length, base, length) #base to decimal\n",
        "  base_states = list(states.keys()) #decimal to base\n",
        "\n",
        "  #representing given string into base and decimal (without duplicates)\n",
        "  base_players = list(set(players)) \n",
        "  decimal_states = list(set([states[i] for i in players])) #decimal representation\n",
        "  \n",
        "\n",
        "  #modifying matrix with ending conditions\n",
        "  #given states ends the markov chain and are represented as a row from the identity matrix\n",
        "  I = np.eye(mtx_length,mtx_length, dtype = float)\n",
        "  mtx_n = make_markov(mtx_length, base=base)\n",
        "  for j in decimal_states: #replacing rows with identity matrix\n",
        "    mtx_n[j,:] = I[j,:]\n",
        "\n",
        "  #each state is equally likely\n",
        "  start = np.ones((1,mtx_length))/mtx_length\n",
        "\n",
        "  #we want the markov matrix to converge with repeat multiplications\n",
        "  #15 is used as it seems converges happens around 8 multiplications\n",
        "  n = 15\n",
        "  M = mtx_n\n",
        "  for _ in range(n):\n",
        "    M = np.dot(M,M)\n",
        "\n",
        "\n",
        "  #P = markov matrix\n",
        "  #winnings = [0.125,...,0.125]*P^n, as n -> infinity\n",
        "  #row vector of probabilities\n",
        "  winnings = np.dot(start,M.round(5)).round(5) \n",
        "\n",
        "  #storing given strings into a dictionary with probabilities\n",
        "  winning_dict = dict.fromkeys(base_players,0)\n",
        "  for i in decimal_states:\n",
        "    winning_dict[base_states[i]] = winnings[:,i][0]\n",
        "\n",
        "  \n",
        "  return winning_dict\n",
        "\n",
        "base = 2\n",
        "length = 3\n",
        "\n",
        "start=time.time()\n",
        "print(get_probabilities(['010', '111'], base, length))\n",
        "print(f\"Executed in {time.time()-start} seconds\")"
      ],
      "execution_count": 12,
      "outputs": [
        {
          "output_type": "stream",
          "name": "stdout",
          "text": [
            "{'111': 0.18085, '010': 0.22341}\n",
            "Executed in 0.005202293395996094 seconds\n"
          ]
        }
      ]
    },
    {
      "cell_type": "markdown",
      "metadata": {
        "id": "eTniXn1cPMeP"
      },
      "source": [
        "Here, the output of get_probabilities comes out with a dictionary with keys as the patterns and values as the probabilities"
      ]
    },
    {
      "cell_type": "markdown",
      "metadata": {
        "id": "zAwCYmHQ9CRx"
      },
      "source": [
        "## Conway's Algorithm\n",
        "\n",
        "John Conway developed a method to calculate the pairwise (only 2 player) probability.  \n",
        "\n",
        "https://penneyante.weebly.com/conways-algorithm.html\n",
        "\n",
        "Currently this algorithm works for any string length but only for binary and 2 players\n"
      ]
    },
    {
      "cell_type": "code",
      "metadata": {
        "colab": {
          "base_uri": "https://localhost:8080/"
        },
        "id": "jgUlx7u69B1b",
        "outputId": "08680751-692b-45c9-e3f5-176bd155d68b"
      },
      "source": [
        "def conway_alg(AB, base = 2):\n",
        "  '''\n",
        "  Calculates the pairwise odds for 2 players in binary\n",
        "  '''\n",
        "  length = len(AB[0])\n",
        "  assert all([len(i)==length for i in AB]), \"Given strings are not the same length\"\n",
        "  base_states = get_states(base**length, base) #binary to decimal\n",
        "\n",
        "  odds = []\n",
        "  for i in it.product(AB, repeat=2):\n",
        "    base_odds = correlation(i[0], i[1])\n",
        "    odds.append(base_states[base_odds])\n",
        "\n",
        "  #odds = [AA, AB, BA, BB]\n",
        "  A_then_B = odds[0]-odds[1]\n",
        "  B_then_A = odds[3]-odds[2]\n",
        "  return A_then_B, B_then_A\n",
        "\n",
        "def correlation(A,B):\n",
        "  #calculates conway correlation\n",
        "  #AB is a list of lists, [A, B]\n",
        "  n = len(A)\n",
        "  pair = \"\"\n",
        "  for i in range(1,n+1):\n",
        "    d = [A[i+j-1] == B[j] for j in range(n-i+1)]\n",
        "    if all(d):\n",
        "      pair += '1'\n",
        "    else:\n",
        "      pair += '0'\n",
        "  return pair\n",
        "\n",
        "\n",
        "print(conway_alg([\"000\",\"100\"]))\n",
        "print(get_probabilities([\"000\",\"100\",\"110\"]))"
      ],
      "execution_count": 14,
      "outputs": [
        {
          "output_type": "stream",
          "name": "stdout",
          "text": [
            "(7, 1)\n",
            "{'100': 0.175, '110': 0.23333, '000': 0.125}\n"
          ]
        }
      ]
    },
    {
      "cell_type": "markdown",
      "metadata": {
        "id": "fwxUlvVxl4Rc"
      },
      "source": [
        "## Conway's Algorithm v1\n",
        "\n",
        "The original algorithm could not handle the generalization I was looking for, so here, I generalize it by holding the pairwise relations into a matrix.\n",
        "\n",
        "To find the odds, replace a column with 1's and take the determinant. This will give the odds of the pattern represented by that column\n",
        "\n",
        "This can handle any length pattern, any number of players, and any base"
      ]
    },
    {
      "cell_type": "code",
      "metadata": {
        "colab": {
          "base_uri": "https://localhost:8080/"
        },
        "id": "V0qsin1ujEAO",
        "outputId": "953b9f19-5862-4221-80b7-528294666f2f"
      },
      "source": [
        "\n",
        "def conway_alg2(players, base = 2, length = None):\n",
        "  '''\n",
        "  conway's algorithm generalized for any length for any number of players in binary\n",
        "  returns the odds of each string\n",
        "  '''\n",
        "  \n",
        "  if length == None:\n",
        "    length = len(players[0])\n",
        "  assert all([len(i)==length for i in players]), \"Given strings are not the same length\"\n",
        "\n",
        "\n",
        "  base_states = get_states(base**length, base)\n",
        "  pairs = []\n",
        "  for i in it.product(players, repeat=2):\n",
        "    base_odds = correlation(i[0], i[1])\n",
        "    pairs.append(base_states[base_odds])\n",
        "  P = np.array(pairs).reshape(length,length).T\n",
        "\n",
        "  odds = {}\n",
        "  for i in range(length):\n",
        "    Q = P.copy()\n",
        "    Q[:,i] = np.ones(length)\n",
        "    odds[players[i]] = np.linalg.det(Q).round(3)\n",
        "\n",
        "  return odds\n",
        "\n",
        "\n",
        "start=time.time()\n",
        "print(conway_alg2([\"000\",\"100\",\"110\"]))\n",
        "print(f\"Executed in {time.time()-start} seconds\")"
      ],
      "execution_count": 15,
      "outputs": [
        {
          "output_type": "stream",
          "name": "stdout",
          "text": [
            "{'000': 6.0, '100': 14.0, '110': 28.0}\n",
            "Executed in 0.0011813640594482422 seconds\n"
          ]
        }
      ]
    },
    {
      "cell_type": "markdown",
      "metadata": {
        "id": "tauUdVx4myIr"
      },
      "source": [
        "## Conway's algorithm v2\n",
        "\n",
        "This method generalizes even more by considering an arbritary probability\n",
        "\n",
        "P(0) = p, P(1) = q (base 2)"
      ]
    },
    {
      "cell_type": "code",
      "metadata": {
        "colab": {
          "base_uri": "https://localhost:8080/"
        },
        "id": "yYyUe-xY0yvP",
        "outputId": "521f9b15-4e25-4630-ae78-ba734ef173f5"
      },
      "source": [
        "'''\n",
        "P(0) = p\n",
        "P(1) = q\n",
        "\n",
        "'''\n",
        "\n",
        "A = [\"000\", \"010\", \"001\"] #patterns\n",
        "l = min([len(a) for a in A]) #lengths\n",
        "\n",
        "\n",
        "#symbolic calculation\n",
        "B = []\n",
        "for i in range(l):\n",
        "  Bi = []\n",
        "  for j in range(l):\n",
        "    Bij = \"\"\n",
        "    for k in range(1,l+1):\n",
        "      left = A[i][:k]\n",
        "      right = A[j][l-k:l+1]\n",
        "      #print(left == right, left, right, A[i][k:l+1])\n",
        "      if left == right:\n",
        "        Ak = A[i][k:l+1].replace(\"0\",\"p\").replace(\"1\",\"q\")\n",
        "        \n",
        "        Bij += f\"{Ak}s^{l-k} + \"\n",
        "    Bi.append(Bij)\n",
        "  B.append(Bi)\n",
        "print(B)"
      ],
      "execution_count": null,
      "outputs": [
        {
          "output_type": "stream",
          "name": "stdout",
          "text": [
            "[['pps^2 + ps^1 + s^0 + ', 'pps^2 + ', ''], ['qps^2 + ', 'qps^2 + s^0 + ', 'ps^1 + '], ['pqs^2 + qs^1 + ', 'pqs^2 + ', 's^0 + ']]\n"
          ]
        }
      ]
    },
    {
      "cell_type": "code",
      "metadata": {
        "colab": {
          "base_uri": "https://localhost:8080/"
        },
        "id": "klOwJpMR6avn",
        "outputId": "e61c6683-0fa5-4662-835c-3f416ceb5574"
      },
      "source": [
        "'''\n",
        "Different variation of Conway's algorithm\n",
        "Can handle any number of players, base, string length, and probability distribution\n",
        "\n",
        "'''\n",
        "\n",
        "\n",
        "A = [\"000\", \"100\", \"211\"] #patterns\n",
        "base = 3\n",
        "l = min([len(a) for a in A]) #string lengths\n",
        "side = len(A) #matrix length\n",
        "\n",
        "weights = np.array([1,1,1])\n",
        "weights = weights/np.sum(weights)\n",
        "\n",
        "pq = {}\n",
        "for i in range(base): #string to number\n",
        "  pq[str(i)] = weights[i]\n",
        "\n",
        "start = time.time()\n",
        "B = []\n",
        "for i in range(side):\n",
        "  Bi = []\n",
        "  for j in range(side):\n",
        "    Bij = 0\n",
        "    for k in range(1,l+1):\n",
        "      left = A[i][:k]\n",
        "      right = A[j][l-k:l+1]\n",
        "      if left == right:\n",
        "        Ak = A[i][k:l+1]\n",
        "        Bij += np.prod([pq[a] for a in Ak])\n",
        "    Bi.append(Bij)\n",
        "  B.append(Bi)\n",
        "\n",
        "C = np.array(B).reshape(side,side)\n",
        "\n",
        "for i in range(side):\n",
        " C[:,i] *= 1/np.prod([pq[a] for a in A[i]]) #matrix to get probabilities\n",
        "\n",
        "\n",
        "prob = {}\n",
        "for i in range(side):\n",
        "  D = C.copy()\n",
        "  D[:,i] = np.ones(side)\n",
        "  prob[A[i]] = np.linalg.det(D).round(3)\n",
        "print(prob)\n",
        "print(f\"Executed in {time.time()-start} seconds\")"
      ],
      "execution_count": null,
      "outputs": [
        {
          "output_type": "stream",
          "name": "stdout",
          "text": [
            "{'000': 441.0, '100': 936.0, '211': 1053.0}\n",
            "Executed in 0.0016553401947021484 seconds\n"
          ]
        }
      ]
    },
    {
      "cell_type": "markdown",
      "metadata": {
        "id": "pKC4w6gUyUj4"
      },
      "source": [
        "All the methods find the probabilities of a set of patterns, markov matrices and conway's algorithm.\n",
        "\n",
        "All seem to roughly the same speed with conway's algorithm being marginally faster"
      ]
    },
    {
      "cell_type": "markdown",
      "metadata": {
        "id": "4vXfGDg4Pa-t"
      },
      "source": [
        "#Getting the probabilities for each state\n",
        "\n",
        "This is to see every possible combination. It becomes harder to visualize the comparison with more players as they add a dimension to the array holding it\n",
        "\n",
        "Because I cant hold every possible pairing of num_players > 2 in a 2D matrix, this part wont be very deep\n",
        "\n"
      ]
    },
    {
      "cell_type": "code",
      "metadata": {
        "colab": {
          "base_uri": "https://localhost:8080/",
          "height": 300
        },
        "id": "33QZmEds_CNp",
        "outputId": "ac8ffb96-462e-4682-c407-63af387ddda2"
      },
      "source": [
        "#this attempt looks through a matrix of v\n",
        "base = 2\n",
        "length = 3\n",
        "mtx_length = base**length\n",
        "\n",
        "all_probablities = []\n",
        "states = get_states(mtx_length, base = base)\n",
        "base_states = list(states.keys())\n",
        "\n",
        "\n",
        "for row in range(mtx_length):\n",
        "  temp = []\n",
        "  for col in range(mtx_length):\n",
        "    temp.append(get_probabilities([base_states[col], base_states[row]], \n",
        "                                  base = base, \n",
        "                                  length = length))\n",
        "  all_probablities.append(temp)\n",
        "\n",
        "winning_probablities = pd.DataFrame(all_probablities)\n",
        "winning_probablities"
      ],
      "execution_count": null,
      "outputs": [
        {
          "output_type": "execute_result",
          "data": {
            "text/html": [
              "<div>\n",
              "<style scoped>\n",
              "    .dataframe tbody tr th:only-of-type {\n",
              "        vertical-align: middle;\n",
              "    }\n",
              "\n",
              "    .dataframe tbody tr th {\n",
              "        vertical-align: top;\n",
              "    }\n",
              "\n",
              "    .dataframe thead th {\n",
              "        text-align: right;\n",
              "    }\n",
              "</style>\n",
              "<table border=\"1\" class=\"dataframe\">\n",
              "  <thead>\n",
              "    <tr style=\"text-align: right;\">\n",
              "      <th></th>\n",
              "      <th>0</th>\n",
              "      <th>1</th>\n",
              "      <th>2</th>\n",
              "      <th>3</th>\n",
              "      <th>4</th>\n",
              "      <th>5</th>\n",
              "      <th>6</th>\n",
              "      <th>7</th>\n",
              "    </tr>\n",
              "  </thead>\n",
              "  <tbody>\n",
              "    <tr>\n",
              "      <th>0</th>\n",
              "      <td>{'000': 1.0}</td>\n",
              "      <td>{'001': 0.5, '000': 0.5}</td>\n",
              "      <td>{'000': 0.4, '010': 0.6}</td>\n",
              "      <td>{'000': 0.4, '011': 0.6}</td>\n",
              "      <td>{'000': 0.125, '100': 0.875}</td>\n",
              "      <td>{'000': 0.41667, '101': 0.58333}</td>\n",
              "      <td>{'000': 0.3, '110': 0.7}</td>\n",
              "      <td>{'000': 0.5, '111': 0.5}</td>\n",
              "    </tr>\n",
              "    <tr>\n",
              "      <th>1</th>\n",
              "      <td>{'000': 0.5, '001': 0.5}</td>\n",
              "      <td>{'001': 1.0}</td>\n",
              "      <td>{'001': 0.66667, '010': 0.33333}</td>\n",
              "      <td>{'001': 0.66667, '011': 0.33333}</td>\n",
              "      <td>{'001': 0.25, '100': 0.75}</td>\n",
              "      <td>{'001': 0.625, '101': 0.375}</td>\n",
              "      <td>{'001': 0.5, '110': 0.5}</td>\n",
              "      <td>{'001': 0.7, '111': 0.3}</td>\n",
              "    </tr>\n",
              "    <tr>\n",
              "      <th>2</th>\n",
              "      <td>{'000': 0.4, '010': 0.6}</td>\n",
              "      <td>{'001': 0.66667, '010': 0.33333}</td>\n",
              "      <td>{'010': 1.0}</td>\n",
              "      <td>{'011': 0.5, '010': 0.5}</td>\n",
              "      <td>{'100': 0.5, '010': 0.5}</td>\n",
              "      <td>{'010': 0.5, '101': 0.5}</td>\n",
              "      <td>{'110': 0.625, '010': 0.375}</td>\n",
              "      <td>{'010': 0.58333, '111': 0.41667}</td>\n",
              "    </tr>\n",
              "    <tr>\n",
              "      <th>3</th>\n",
              "      <td>{'000': 0.4, '011': 0.6}</td>\n",
              "      <td>{'001': 0.66667, '011': 0.33333}</td>\n",
              "      <td>{'011': 0.5, '010': 0.5}</td>\n",
              "      <td>{'011': 1.0}</td>\n",
              "      <td>{'100': 0.5, '011': 0.5}</td>\n",
              "      <td>{'011': 0.5, '101': 0.5}</td>\n",
              "      <td>{'011': 0.75, '110': 0.25}</td>\n",
              "      <td>{'011': 0.875, '111': 0.125}</td>\n",
              "    </tr>\n",
              "    <tr>\n",
              "      <th>4</th>\n",
              "      <td>{'000': 0.125, '100': 0.875}</td>\n",
              "      <td>{'001': 0.25, '100': 0.75}</td>\n",
              "      <td>{'100': 0.5, '010': 0.5}</td>\n",
              "      <td>{'100': 0.5, '011': 0.5}</td>\n",
              "      <td>{'100': 1.0}</td>\n",
              "      <td>{'100': 0.5, '101': 0.5}</td>\n",
              "      <td>{'100': 0.33333, '110': 0.66667}</td>\n",
              "      <td>{'100': 0.6, '111': 0.4}</td>\n",
              "    </tr>\n",
              "    <tr>\n",
              "      <th>5</th>\n",
              "      <td>{'000': 0.41667, '101': 0.58333}</td>\n",
              "      <td>{'001': 0.625, '101': 0.375}</td>\n",
              "      <td>{'101': 0.5, '010': 0.5}</td>\n",
              "      <td>{'011': 0.5, '101': 0.5}</td>\n",
              "      <td>{'100': 0.5, '101': 0.5}</td>\n",
              "      <td>{'101': 1.0}</td>\n",
              "      <td>{'110': 0.66667, '101': 0.33333}</td>\n",
              "      <td>{'101': 0.6, '111': 0.4}</td>\n",
              "    </tr>\n",
              "    <tr>\n",
              "      <th>6</th>\n",
              "      <td>{'000': 0.3, '110': 0.7}</td>\n",
              "      <td>{'001': 0.5, '110': 0.5}</td>\n",
              "      <td>{'110': 0.625, '010': 0.375}</td>\n",
              "      <td>{'110': 0.25, '011': 0.75}</td>\n",
              "      <td>{'100': 0.33333, '110': 0.66667}</td>\n",
              "      <td>{'110': 0.66667, '101': 0.33333}</td>\n",
              "      <td>{'110': 1.0}</td>\n",
              "      <td>{'110': 0.5, '111': 0.5}</td>\n",
              "    </tr>\n",
              "    <tr>\n",
              "      <th>7</th>\n",
              "      <td>{'000': 0.5, '111': 0.5}</td>\n",
              "      <td>{'001': 0.7, '111': 0.3}</td>\n",
              "      <td>{'010': 0.58333, '111': 0.41667}</td>\n",
              "      <td>{'011': 0.875, '111': 0.125}</td>\n",
              "      <td>{'100': 0.6, '111': 0.4}</td>\n",
              "      <td>{'101': 0.6, '111': 0.4}</td>\n",
              "      <td>{'110': 0.5, '111': 0.5}</td>\n",
              "      <td>{'111': 1.0}</td>\n",
              "    </tr>\n",
              "  </tbody>\n",
              "</table>\n",
              "</div>"
            ],
            "text/plain": [
              "                                  0  ...                                 7\n",
              "0                      {'000': 1.0}  ...          {'000': 0.5, '111': 0.5}\n",
              "1          {'000': 0.5, '001': 0.5}  ...          {'001': 0.7, '111': 0.3}\n",
              "2          {'000': 0.4, '010': 0.6}  ...  {'010': 0.58333, '111': 0.41667}\n",
              "3          {'000': 0.4, '011': 0.6}  ...      {'011': 0.875, '111': 0.125}\n",
              "4      {'000': 0.125, '100': 0.875}  ...          {'100': 0.6, '111': 0.4}\n",
              "5  {'000': 0.41667, '101': 0.58333}  ...          {'101': 0.6, '111': 0.4}\n",
              "6          {'000': 0.3, '110': 0.7}  ...          {'110': 0.5, '111': 0.5}\n",
              "7          {'000': 0.5, '111': 0.5}  ...                      {'111': 1.0}\n",
              "\n",
              "[8 rows x 8 columns]"
            ]
          },
          "metadata": {},
          "execution_count": 5
        }
      ]
    },
    {
      "cell_type": "code",
      "metadata": {
        "id": "1Ldwt7P-TZXV"
      },
      "source": [
        "\n",
        "#listing every possible combination, but this is not sorted\n",
        "\n",
        "num_players = 2\n",
        "base=7\n",
        "length=2\n",
        "mtx_length = base**length\n",
        "\n",
        "states = get_states(mtx_length, base=base)\n",
        "base_states = list(states.keys())\n",
        "\n",
        "#{state:[[other states, probabilities],...],...}\n",
        "winning_state = dict.fromkeys(base_states,None)\n",
        "\n",
        "#printing out every possible combination of probabilities\n",
        "for j in it.combinations(base_states, num_players): #iterate through combinations\n",
        "  prob = get_probabilities(j, base=base, length=length)\n",
        "  print(prob)\n",
        "\n"
      ],
      "execution_count": null,
      "outputs": []
    },
    {
      "cell_type": "markdown",
      "metadata": {
        "id": "_pS2zGnnSk5d"
      },
      "source": [
        "#Finding the winning pattern\n",
        "\n",
        "Now that we can compare various patterns, lets try to find the best pattern (given we know the opponent's patterns and every pattern is unique)\n",
        "\n",
        "A dominant pattern is one that has probabily over 0.5, making it more likely to win than not. I'm not considering the case where the winning probability = max probabilty and less than 0.5.\n",
        "\n",
        "This is found by only using combinations that includes the opponent patterns and finding which left over pattern has the biggest probability\n",
        "\n",
        "\n",
        "The for loop searches through $\\text{number of all possible states} \\choose \\text{number of players}$\n"
      ]
    },
    {
      "cell_type": "code",
      "metadata": {
        "colab": {
          "base_uri": "https://localhost:8080/"
        },
        "id": "0UiQA1IYJKfn",
        "outputId": "35335bd9-5137-4960-b3be-58960ed03ff4"
      },
      "source": [
        "#Given list of opponent patterns, find the best pattern\n",
        "#if there is no dominant pattern, then return next best or say none\n",
        "def find_best(them, num_players=num_players, base=base, length=length, raw = False):\n",
        "\n",
        "  states = get_states(base**length, base=base)\n",
        "  base_states = list(states.keys())\n",
        "\n",
        "  #if any opponent string length doesnt match picked string length, assert error\n",
        "  assert all([ length == k for k in [len(i) for i in them] ]), \"Opponent lengths does not match given length\"\n",
        "\n",
        "  # searching for possible states that only includes them\n",
        "  not_them = []\n",
        "  for j in it.combinations(base_states, num_players):\n",
        "    them_in_comb = [i in j for i in them]\n",
        "    if all(them_in_comb):\n",
        "      prob = get_probabilities(j,base=base,length=length)\n",
        "\n",
        "      #find states not included in them list and have prob over 0.5\n",
        "      not_them += [(i,prob[i]) for i in prob if i not in them]\n",
        "  \n",
        "  #handling failed searches\n",
        "  if not_them == []:\n",
        "    return \"None found\"\n",
        "  if raw:\n",
        "    #return probabilities, no searching\n",
        "    return not_them\n",
        "\n",
        "  #finding the maximum probability\n",
        "  best_prob = 0.0\n",
        "  for me in not_them:\n",
        "    if best_prob < me[1]:\n",
        "      best_prob = me[1]\n",
        "\n",
        "  #return states that match the best prob\n",
        "  return [me for me in not_them if me[1] == best_prob]\n",
        "\n",
        "\n",
        "num_players = 3\n",
        "base=2\n",
        "length=3\n",
        "them = [\"000\",\"100\"]\n",
        "\n",
        "assert num_players-len(them) == 1, \"Missing opponent patterns\"\n",
        "total_combinations = comb(base**length, num_players,exact=True)\n",
        "print(f\"Searching through {total_combinations} possible combinations\")\n",
        "#assert total_combinations < 100000, \"Too many combinations\"\n",
        "\n",
        "find_best(them=them, num_players=num_players, base=base, length=length, raw=False)\n"
      ],
      "execution_count": null,
      "outputs": [
        {
          "output_type": "stream",
          "name": "stdout",
          "text": [
            "Searching through 56 possible combinations\n"
          ]
        },
        {
          "output_type": "execute_result",
          "data": {
            "text/plain": [
              "[('110', 0.58333)]"
            ]
          },
          "metadata": {},
          "execution_count": 172
        }
      ]
    },
    {
      "cell_type": "code",
      "metadata": {
        "colab": {
          "base_uri": "https://localhost:8080/"
        },
        "id": "UipuanNyVrZz",
        "outputId": "3be55718-7e8e-4dc2-cb6d-5e77b805c3d1"
      },
      "source": [
        "get_probabilities([\"0000\",\"1000\"],length=4)"
      ],
      "execution_count": null,
      "outputs": [
        {
          "output_type": "execute_result",
          "data": {
            "text/plain": [
              "{'0000': 0.0625, '1000': 0.9375}"
            ]
          },
          "metadata": {},
          "execution_count": 176
        }
      ]
    },
    {
      "cell_type": "markdown",
      "metadata": {
        "id": "YJbTDpYLhMVw"
      },
      "source": [
        "The biggest limitation behind this code is the number of operations needed. Finding the probability requires multiplying a matrix 15 times to approximate the convergence.\n",
        "\n",
        "The number of operations made is $\\text{number of all possible states} \\choose \\text{number of players}$\\*15\\*(number of operations for matrix multiplication) operations = $n \\choose \\text{number of players}$\\*15\\*$(2n^3-n^2)$ operations where n = $base^{length}$"
      ]
    },
    {
      "cell_type": "code",
      "metadata": {
        "colab": {
          "base_uri": "https://localhost:8080/",
          "height": 282
        },
        "id": "VESI_t2Gqykw",
        "outputId": "6b0c0345-78b4-4071-af3a-cb83633a89bc"
      },
      "source": [
        "import matplotlib.pyplot as plt\n",
        "\n",
        "#counting the minimum amount of operations\n",
        "def count_op(n, num_players=2):\n",
        "  return comb(n,num_players,exact=True)*15*(2*n**3-n**2)\n",
        "\n",
        "#count_op(2**3,2) #original game takes \n",
        "plotting = [count_op(i) for i in np.arange(1,10)]\n",
        "\n",
        "plt.plot(plotting)\n",
        "print(\"We can see that the number of operations grows very fast based on the total number of possible patterns\")"
      ],
      "execution_count": null,
      "outputs": [
        {
          "output_type": "stream",
          "name": "stdout",
          "text": [
            "We can see that the number of operations grows very fast based on the total number of possible patterns\n"
          ]
        },
        {
          "output_type": "display_data",
          "data": {
            "image/png": "[encoded data removed]",
            "text/plain": [
              "<Figure size 432x288 with 1 Axes>"
            ]
          },
          "metadata": {
            "needs_background": "light"
          }
        }
      ]
    },
    {
      "cell_type": "markdown",
      "metadata": {
        "id": "Lq-p0lG2j37q"
      },
      "source": [
        "#Verifying the math\n",
        "The probabilities above are made theoretically, so it would be nice to see it it can be observed.\n",
        "\n",
        "\n",
        "Here, I am performaing a simulation and counting when which pattern appears first"
      ]
    },
    {
      "cell_type": "code",
      "metadata": {
        "id": "YxsJgKNDkHNk",
        "colab": {
          "base_uri": "https://localhost:8080/"
        },
        "outputId": "16ac528b-549e-4a72-ad91-626c58d0b35e"
      },
      "source": [
        "\n",
        "def list2str(array, base=2):\n",
        "  '''\n",
        "  Translate the random walk into a sequence of decimal to encode the state\n",
        "  Input:\n",
        "  array = 2d matrix of only 0's and 1's\n",
        "  '''\n",
        "  decimals = []\n",
        "\n",
        "  if len(array.shape) == 1:\n",
        "    num_flips = array.shape[0]\n",
        "    num_trials = 1\n",
        "  else:\n",
        "    num_flips = array.shape[1]\n",
        "    num_trials = array.shape[0]\n",
        "\n",
        "  for trial in range(num_trials):\n",
        "    walk = []\n",
        "    for flip in range(3,num_flips+1):\n",
        "      subwalk = int(''.join(map(str,array[trial,(flip-3):flip])),base)\n",
        "      #subwalk = '0b'+''.join(map(str,array[trial,(flip-3):flip]))\n",
        "      walk.append(subwalk)\n",
        "    decimals.append(walk)\n",
        "\n",
        "  return np.array(decimals)\n",
        "\n",
        "def check_str(players, array, base = 2, length=3):\n",
        "  '''\n",
        "  Input:\n",
        "  players=list of binary strings\n",
        "  array=decimal translating of random walk per subwalk\n",
        "  string_length=length of string used for the game\n",
        "  '''\n",
        "  mtx_length = base**length\n",
        "  states = get_states(mtx_length, base=base) #binary to decimal\n",
        "  base_states = list(states.keys()) #decimal to binary\n",
        "  unique_players = list(set(players)) #removes duplicates\n",
        "\n",
        "  #make a dictionary from list of strings\n",
        "  count = dict.fromkeys(unique_players,0)\n",
        "\n",
        "  for row in range(array.shape[0]):\n",
        "    for col in range(array.shape[1]):\n",
        "      sub_state = base_states[array[row,col]] #decimal to binary\n",
        "      if sub_state in unique_players:\n",
        "        count[sub_state] += 1\n",
        "        break\n",
        "      else:\n",
        "        assert 'Unknown Error'\n",
        "\n",
        "  total = np.sum(list(count.values()))\n",
        "\n",
        "  for i in unique_players:\n",
        "    count[i] = count[i]/total\n",
        "  return count\n",
        "\n",
        "\n",
        "num_flips = 50\n",
        "num_trials = 10000\n",
        "\n",
        "base = 3\n",
        "length = 3\n",
        "\n",
        "walk = np.random.randint(0,base,(num_trials,num_flips))\n",
        "compare = ['000','111', '012']\n",
        "#assert all([ length == k for k in [len(i) for i in compare] ]), \"Given lengths does not all match\"\n",
        "\n",
        "print(check_str(compare, \n",
        "                array = list2str(walk, base=base), \n",
        "                base = base, \n",
        "                length=length))\n",
        "\n",
        "get_probabilities(compare, base=base,length=length)\n"
      ],
      "execution_count": null,
      "outputs": [
        {
          "output_type": "stream",
          "name": "stdout",
          "text": [
            "{'000': 0.30037219595614123, '012': 0.3941253395030681, '111': 0.30550246454079066}\n"
          ]
        },
        {
          "output_type": "execute_result",
          "data": {
            "text/plain": [
              "{'000': 0.3, '012': 0.4, '111': 0.3}"
            ]
          },
          "metadata": {},
          "execution_count": 9
        }
      ]
    },
    {
      "cell_type": "markdown",
      "metadata": {
        "id": "uXdgHSfZ3P1Q"
      },
      "source": [
        "Testing out a few comparison seems to agree with theory, nice!"
      ]
    },
    {
      "cell_type": "markdown",
      "metadata": {
        "id": "DgXDt0Ir4Rb6"
      },
      "source": [
        "# Finding the stationary distribution\n",
        "To find the probabilities, it is assumed each pattern is equally likely\n",
        "\n",
        "Because we have a markov chain, I want to find a stationary distribution if it exists\n",
        "\n",
        "This is just a tangent, it doesnt contribute to finding the probabilities\n"
      ]
    },
    {
      "cell_type": "code",
      "metadata": {
        "colab": {
          "base_uri": "https://localhost:8080/"
        },
        "id": "Kja0dTm-4zGm",
        "outputId": "917736a8-9326-4916-9fa0-fb883370eb00"
      },
      "source": [
        "\n",
        "def find_stationary(mtx):\n",
        "  eig_val, eig_vec = eig(mtx.T)\n",
        "\n",
        "  #find eigenvector associated with 1\n",
        "  eig_vec1 = eig_vec[:,np.isclose(eig_val, 1)]\n",
        "  eig_vec1 = eig_vec1[:,0]\n",
        "\n",
        "  stationary = eig_vec1 / eig_vec1.sum()\n",
        "  stationary = stationary.real\n",
        "\n",
        "  return stationary\n",
        "\n",
        "base = 3\n",
        "length = 3\n",
        "mtx_length = base**length\n",
        "\n",
        "P = make_markov(base**length, base)\n",
        "\n",
        "stationary = find_stationary(P)\n",
        "print(stationary)"
      ],
      "execution_count": null,
      "outputs": [
        {
          "output_type": "stream",
          "name": "stdout",
          "text": [
            "[0.03703704 0.03703704 0.03703704 0.03703704 0.03703704 0.03703704\n",
            " 0.03703704 0.03703704 0.03703704 0.03703704 0.03703704 0.03703704\n",
            " 0.03703704 0.03703704 0.03703704 0.03703704 0.03703704 0.03703704\n",
            " 0.03703704 0.03703704 0.03703704 0.03703704 0.03703704 0.03703704\n",
            " 0.03703704 0.03703704 0.03703704]\n"
          ]
        }
      ]
    },
    {
      "cell_type": "markdown",
      "metadata": {
        "id": "FDTyGxAiqf8C"
      },
      "source": [
        "The stationary distribution looks to always be the uniform distribution"
      ]
    },
    {
      "cell_type": "code",
      "metadata": {
        "colab": {
          "base_uri": "https://localhost:8080/"
        },
        "id": "veKl2ceg6On5",
        "outputId": "929b86b3-60da-4597-de55-01fc94ab7915"
      },
      "source": [
        "players = [\"010\",\"111\", \"110\",\"000\"]\n",
        "\n",
        "\n",
        "states = get_states(mtx_length, base, length) #base to decimal\n",
        "base_states = list(states.keys()) #decimal to base\n",
        "\n",
        "#representing given string into base and decimal (without duplicates)\n",
        "base_players = list(set(players)) \n",
        "decimal_states = list(set([states[i] for i in players])) #decimal representation\n",
        "\n",
        "\n",
        "I = np.eye(mtx_length,mtx_length, dtype = float)\n",
        "mtx_n = make_markov(mtx_length, base=base)\n",
        "for j in decimal_states: #replacing rows with identity matrix\n",
        "  mtx_n[j,:] = I[j,:]\n",
        "\n",
        "stationary = find_stationary(mtx_n)\n",
        "\n",
        "print(stationary)"
      ],
      "execution_count": null,
      "outputs": [
        {
          "output_type": "stream",
          "name": "stdout",
          "text": [
            "[1. 0. 0. 0. 0. 0. 0. 0. 0. 0. 0. 0. 0. 0. 0. 0. 0. 0. 0. 0. 0. 0. 0. 0.\n",
            " 0. 0. 0.]\n"
          ]
        }
      ]
    },
    {
      "cell_type": "markdown",
      "metadata": {
        "id": "_9d7Jhfi8ENk"
      },
      "source": [
        "Finding the stationary distribution of a modified markov matrix returns which pattern is more likely to win"
      ]
    }
  ]
}
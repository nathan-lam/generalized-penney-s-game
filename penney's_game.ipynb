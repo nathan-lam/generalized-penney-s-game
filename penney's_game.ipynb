{
  "nbformat": 4,
  "nbformat_minor": 0,
  "metadata": {
    "colab": {
      "name": "penney's game.ipynb",
      "provenance": [],
      "collapsed_sections": []
    },
    "kernelspec": {
      "name": "python3",
      "display_name": "Python 3"
    },
    "language_info": {
      "name": "python"
    }
  },
  "cells": [
    {
      "cell_type": "markdown",
      "metadata": {
        "id": "HOnTjynxL2un"
      },
      "source": [
        "#Intro\n",
        "Penney's game is a 2 player nontransitive game that can be done using a deck of cards or filling some coins. It is needed that each binary state is roughly 50-50\n",
        "\n",
        "Two players start by guessing a string of binary states such as HHT or TTT  \n",
        "and the goal is to see who's string appears first. Each string is known to everyone\n",
        "\n",
        "\n",
        "When first published, Penney's game uses a string of 3 heads or tails. It has also been shown that red-black cards of a deck of cards is approximate to the probabilities\n",
        "\n",
        "#Goal\n",
        "This python notebooks seeks \n",
        "1. To generalize the game to a string of length n by utilizing markov chains. \n",
        "2. To generalize the game to include m players"
      ]
    },
    {
      "cell_type": "code",
      "metadata": {
        "id": "m35ZkfhImHu2"
      },
      "source": [
        "import numpy as np\n",
        "import pandas as pd"
      ],
      "execution_count": 484,
      "outputs": []
    },
    {
      "cell_type": "markdown",
      "metadata": {
        "id": "jGYyeO_QNKIU"
      },
      "source": [
        "A markov chain can be represented as an adjacency matrix.  \n",
        "I will be using binary to represent the states where H=0 and T=1  \n",
        "\n",
        "\n",
        "So 010 = HTH  \n",
        "\n",
        "\n",
        "The matrix forms a diagonal matrix that resembles some stairsteps"
      ]
    },
    {
      "cell_type": "code",
      "metadata": {
        "colab": {
          "base_uri": "https://localhost:8080/",
          "height": 297
        },
        "id": "VkCDeqhGmEgX",
        "outputId": "27c167cb-93ef-4f7e-cd03-c216feee3c4d"
      },
      "source": [
        "#generating markov matrix\n",
        "\n",
        "#length of subset of interest\n",
        "length = 3\n",
        "\n",
        "#side length of matrix\n",
        "mtx_length = 2**length\n",
        "\n",
        "\n",
        "def make_markov(mtx_length):\n",
        "\n",
        "  #get identity/2\n",
        "  step1 = np.eye(mtx_length//2, dtype=float)/2\n",
        "\n",
        "  #interweave columns of identity/2 with itself\n",
        "  step2 = np.empty((step1.shape[0], step1.shape[0]*2))\n",
        "  step2[:,1::2] = step1 #interweaving\n",
        "  step2[:,::2] = step1 \n",
        "\n",
        "  #append a copy to the bottom\n",
        "  step3 = np.append(step2,step2, axis=0)\n",
        "\n",
        "  #done\n",
        "  return step3\n",
        "\n",
        "\n",
        "def get_states(mtx_length):\n",
        "  states = {}\n",
        "  for i in range(mtx_length):\n",
        "    states[bin(i)] = i\n",
        "  return states\n",
        "\n",
        "\n",
        "matrix = make_markov(mtx_length)\n",
        "states = get_states(mtx_length)\n",
        "bin_states = list(states.keys())\n",
        "\n",
        "\n",
        "#displaying markov matrix in a dataframe\n",
        "matrix_df = pd.DataFrame(matrix)\n",
        "matrix_df.set_axis(bin_states, axis=0, inplace=True)\n",
        "matrix_df.set_axis(bin_states, axis=1, inplace=True)\n",
        "\n",
        "matrix_df"
      ],
      "execution_count": 485,
      "outputs": [
        {
          "output_type": "execute_result",
          "data": {
            "text/html": [
              "<div>\n",
              "<style scoped>\n",
              "    .dataframe tbody tr th:only-of-type {\n",
              "        vertical-align: middle;\n",
              "    }\n",
              "\n",
              "    .dataframe tbody tr th {\n",
              "        vertical-align: top;\n",
              "    }\n",
              "\n",
              "    .dataframe thead th {\n",
              "        text-align: right;\n",
              "    }\n",
              "</style>\n",
              "<table border=\"1\" class=\"dataframe\">\n",
              "  <thead>\n",
              "    <tr style=\"text-align: right;\">\n",
              "      <th></th>\n",
              "      <th>0b0</th>\n",
              "      <th>0b1</th>\n",
              "      <th>0b10</th>\n",
              "      <th>0b11</th>\n",
              "      <th>0b100</th>\n",
              "      <th>0b101</th>\n",
              "      <th>0b110</th>\n",
              "      <th>0b111</th>\n",
              "    </tr>\n",
              "  </thead>\n",
              "  <tbody>\n",
              "    <tr>\n",
              "      <th>0b0</th>\n",
              "      <td>0.5</td>\n",
              "      <td>0.5</td>\n",
              "      <td>0.0</td>\n",
              "      <td>0.0</td>\n",
              "      <td>0.0</td>\n",
              "      <td>0.0</td>\n",
              "      <td>0.0</td>\n",
              "      <td>0.0</td>\n",
              "    </tr>\n",
              "    <tr>\n",
              "      <th>0b1</th>\n",
              "      <td>0.0</td>\n",
              "      <td>0.0</td>\n",
              "      <td>0.5</td>\n",
              "      <td>0.5</td>\n",
              "      <td>0.0</td>\n",
              "      <td>0.0</td>\n",
              "      <td>0.0</td>\n",
              "      <td>0.0</td>\n",
              "    </tr>\n",
              "    <tr>\n",
              "      <th>0b10</th>\n",
              "      <td>0.0</td>\n",
              "      <td>0.0</td>\n",
              "      <td>0.0</td>\n",
              "      <td>0.0</td>\n",
              "      <td>0.5</td>\n",
              "      <td>0.5</td>\n",
              "      <td>0.0</td>\n",
              "      <td>0.0</td>\n",
              "    </tr>\n",
              "    <tr>\n",
              "      <th>0b11</th>\n",
              "      <td>0.0</td>\n",
              "      <td>0.0</td>\n",
              "      <td>0.0</td>\n",
              "      <td>0.0</td>\n",
              "      <td>0.0</td>\n",
              "      <td>0.0</td>\n",
              "      <td>0.5</td>\n",
              "      <td>0.5</td>\n",
              "    </tr>\n",
              "    <tr>\n",
              "      <th>0b100</th>\n",
              "      <td>0.5</td>\n",
              "      <td>0.5</td>\n",
              "      <td>0.0</td>\n",
              "      <td>0.0</td>\n",
              "      <td>0.0</td>\n",
              "      <td>0.0</td>\n",
              "      <td>0.0</td>\n",
              "      <td>0.0</td>\n",
              "    </tr>\n",
              "    <tr>\n",
              "      <th>0b101</th>\n",
              "      <td>0.0</td>\n",
              "      <td>0.0</td>\n",
              "      <td>0.5</td>\n",
              "      <td>0.5</td>\n",
              "      <td>0.0</td>\n",
              "      <td>0.0</td>\n",
              "      <td>0.0</td>\n",
              "      <td>0.0</td>\n",
              "    </tr>\n",
              "    <tr>\n",
              "      <th>0b110</th>\n",
              "      <td>0.0</td>\n",
              "      <td>0.0</td>\n",
              "      <td>0.0</td>\n",
              "      <td>0.0</td>\n",
              "      <td>0.5</td>\n",
              "      <td>0.5</td>\n",
              "      <td>0.0</td>\n",
              "      <td>0.0</td>\n",
              "    </tr>\n",
              "    <tr>\n",
              "      <th>0b111</th>\n",
              "      <td>0.0</td>\n",
              "      <td>0.0</td>\n",
              "      <td>0.0</td>\n",
              "      <td>0.0</td>\n",
              "      <td>0.0</td>\n",
              "      <td>0.0</td>\n",
              "      <td>0.5</td>\n",
              "      <td>0.5</td>\n",
              "    </tr>\n",
              "  </tbody>\n",
              "</table>\n",
              "</div>"
            ],
            "text/plain": [
              "       0b0  0b1  0b10  0b11  0b100  0b101  0b110  0b111\n",
              "0b0    0.5  0.5   0.0   0.0    0.0    0.0    0.0    0.0\n",
              "0b1    0.0  0.0   0.5   0.5    0.0    0.0    0.0    0.0\n",
              "0b10   0.0  0.0   0.0   0.0    0.5    0.5    0.0    0.0\n",
              "0b11   0.0  0.0   0.0   0.0    0.0    0.0    0.5    0.5\n",
              "0b100  0.5  0.5   0.0   0.0    0.0    0.0    0.0    0.0\n",
              "0b101  0.0  0.0   0.5   0.5    0.0    0.0    0.0    0.0\n",
              "0b110  0.0  0.0   0.0   0.0    0.5    0.5    0.0    0.0\n",
              "0b111  0.0  0.0   0.0   0.0    0.0    0.0    0.5    0.5"
            ]
          },
          "metadata": {},
          "execution_count": 485
        }
      ]
    },
    {
      "cell_type": "markdown",
      "metadata": {
        "id": "rx91CT9IOu7D"
      },
      "source": [
        "It is to be interpreted that moving along the columns is player 1 and moving across the rows is player 2"
      ]
    },
    {
      "cell_type": "code",
      "metadata": {
        "colab": {
          "base_uri": "https://localhost:8080/"
        },
        "id": "H5-kgCfDnA8R",
        "outputId": "8ef0d7e7-2c5c-4194-92cf-c492a6dd6efa"
      },
      "source": [
        "\n",
        "#function to get the probabilities when comparing 2 strings\n",
        "def get_probabilities(players, mtx_length=mtx_length):\n",
        "  '''\n",
        "  me, you are binary strings like 0b1 or 0b111\n",
        "  '''\n",
        "\n",
        "  states = get_states(mtx_length)\n",
        "  bin_states = list(states.keys())\n",
        "\n",
        "  #modifying matrix with ending conditions, the 2 states considered\n",
        "\n",
        "  I = np.eye(mtx_length,mtx_length, dtype = float)\n",
        "\n",
        "  mtx_n = make_markov(mtx_length)\n",
        "\n",
        "  #turning binary into decimal\n",
        "  player_states = [states[i] for i in players]\n",
        "\n",
        "  for j in player_states:\n",
        "    mtx_n[j,:] = I[j,:]\n",
        "\n",
        "\n",
        "  #print(\"Markov Matrix\\n\",mtx_n)\n",
        "\n",
        "  #each state is equally likely\n",
        "  start = np.ones((1,mtx_length))/mtx_length\n",
        "\n",
        "  #we want the markov matrix to converge with repeat multiplications\n",
        "  #100 is close enough when we round the answer\n",
        "  n = 10\n",
        "  M = mtx_n\n",
        "  for _ in range(n):\n",
        "    M = np.dot(M,M)\n",
        "\n",
        "\n",
        "  #P = markov matrix\n",
        "  #winnings = [0.125,...,0.125]*P^n, as n -> infinity\n",
        "  winnings = np.dot(start,M.round(5)).round(5)\n",
        "\n",
        "  return [winnings[:,i][0] for i in player_states]\n",
        "\n",
        "\n",
        "get_probabilities(['0b0', '0b1','0b100','0b111'])"
      ],
      "execution_count": 486,
      "outputs": [
        {
          "output_type": "execute_result",
          "data": {
            "text/plain": [
              "[0.125, 0.125, 0.45, 0.3]"
            ]
          },
          "metadata": {},
          "execution_count": 486
        }
      ]
    },
    {
      "cell_type": "markdown",
      "metadata": {
        "id": "eTniXn1cPMeP"
      },
      "source": [
        "Here, the output of get_probabilities comes out as (P(player 1 wins), P(player 2 wins))"
      ]
    },
    {
      "cell_type": "markdown",
      "metadata": {
        "id": "4vXfGDg4Pa-t"
      },
      "source": [
        "#Getting the probabilities for each state\n",
        "\n",
        "the code below works out every type of pairing and stores them all into a dataframe"
      ]
    },
    {
      "cell_type": "code",
      "metadata": {
        "colab": {
          "base_uri": "https://localhost:8080/",
          "height": 297
        },
        "id": "33QZmEds_CNp",
        "outputId": "c8346a26-3c06-4de7-fe2c-80fece2fb931"
      },
      "source": [
        "\n",
        "\n",
        "all_probablities = []\n",
        "states = get_states(mtx_length)\n",
        "bin_states = list(states.keys())\n",
        "\n",
        "\n",
        "for row in range(mtx_length):\n",
        "  temp = []\n",
        "  for col in range(mtx_length):\n",
        "    temp.append(get_probabilities([bin_states[col], bin_states[row]]))\n",
        "  all_probablities.append(temp)\n",
        "\n",
        "\n",
        "if len(all_probablities.shape) == 2:\n",
        "  winning_probabilities = pd.DataFrame(all_probablities).T\n",
        "  winning_probabilities.set_axis(bin_states, axis=0, inplace=True) #renaming row/col\n",
        "  winning_probabilities.set_axis(bin_states, axis=1, inplace=True)\n",
        "\n",
        "winning_probabilities"
      ],
      "execution_count": 487,
      "outputs": [
        {
          "output_type": "execute_result",
          "data": {
            "text/html": [
              "<div>\n",
              "<style scoped>\n",
              "    .dataframe tbody tr th:only-of-type {\n",
              "        vertical-align: middle;\n",
              "    }\n",
              "\n",
              "    .dataframe tbody tr th {\n",
              "        vertical-align: top;\n",
              "    }\n",
              "\n",
              "    .dataframe thead th {\n",
              "        text-align: right;\n",
              "    }\n",
              "</style>\n",
              "<table border=\"1\" class=\"dataframe\">\n",
              "  <thead>\n",
              "    <tr style=\"text-align: right;\">\n",
              "      <th></th>\n",
              "      <th>0b0</th>\n",
              "      <th>0b1</th>\n",
              "      <th>0b10</th>\n",
              "      <th>0b11</th>\n",
              "      <th>0b100</th>\n",
              "      <th>0b101</th>\n",
              "      <th>0b110</th>\n",
              "      <th>0b111</th>\n",
              "    </tr>\n",
              "  </thead>\n",
              "  <tbody>\n",
              "    <tr>\n",
              "      <th>0b0</th>\n",
              "      <td>[1.0, 1.0]</td>\n",
              "      <td>[0.5, 0.5]</td>\n",
              "      <td>[0.4, 0.6]</td>\n",
              "      <td>[0.4, 0.6]</td>\n",
              "      <td>[0.125, 0.875]</td>\n",
              "      <td>[0.41667, 0.58333]</td>\n",
              "      <td>[0.3, 0.7]</td>\n",
              "      <td>[0.5, 0.5]</td>\n",
              "    </tr>\n",
              "    <tr>\n",
              "      <th>0b1</th>\n",
              "      <td>[0.5, 0.5]</td>\n",
              "      <td>[1.0, 1.0]</td>\n",
              "      <td>[0.66667, 0.33333]</td>\n",
              "      <td>[0.66667, 0.33333]</td>\n",
              "      <td>[0.25, 0.75]</td>\n",
              "      <td>[0.625, 0.375]</td>\n",
              "      <td>[0.5, 0.5]</td>\n",
              "      <td>[0.7, 0.3]</td>\n",
              "    </tr>\n",
              "    <tr>\n",
              "      <th>0b10</th>\n",
              "      <td>[0.6, 0.4]</td>\n",
              "      <td>[0.33333, 0.66667]</td>\n",
              "      <td>[1.0, 1.0]</td>\n",
              "      <td>[0.5, 0.5]</td>\n",
              "      <td>[0.5, 0.5]</td>\n",
              "      <td>[0.5, 0.5]</td>\n",
              "      <td>[0.375, 0.625]</td>\n",
              "      <td>[0.58333, 0.41667]</td>\n",
              "    </tr>\n",
              "    <tr>\n",
              "      <th>0b11</th>\n",
              "      <td>[0.6, 0.4]</td>\n",
              "      <td>[0.33333, 0.66667]</td>\n",
              "      <td>[0.5, 0.5]</td>\n",
              "      <td>[1.0, 1.0]</td>\n",
              "      <td>[0.5, 0.5]</td>\n",
              "      <td>[0.5, 0.5]</td>\n",
              "      <td>[0.75, 0.25]</td>\n",
              "      <td>[0.875, 0.125]</td>\n",
              "    </tr>\n",
              "    <tr>\n",
              "      <th>0b100</th>\n",
              "      <td>[0.875, 0.125]</td>\n",
              "      <td>[0.75, 0.25]</td>\n",
              "      <td>[0.5, 0.5]</td>\n",
              "      <td>[0.5, 0.5]</td>\n",
              "      <td>[1.0, 1.0]</td>\n",
              "      <td>[0.5, 0.5]</td>\n",
              "      <td>[0.33333, 0.66667]</td>\n",
              "      <td>[0.6, 0.4]</td>\n",
              "    </tr>\n",
              "    <tr>\n",
              "      <th>0b101</th>\n",
              "      <td>[0.58333, 0.41667]</td>\n",
              "      <td>[0.375, 0.625]</td>\n",
              "      <td>[0.5, 0.5]</td>\n",
              "      <td>[0.5, 0.5]</td>\n",
              "      <td>[0.5, 0.5]</td>\n",
              "      <td>[1.0, 1.0]</td>\n",
              "      <td>[0.33333, 0.66667]</td>\n",
              "      <td>[0.6, 0.4]</td>\n",
              "    </tr>\n",
              "    <tr>\n",
              "      <th>0b110</th>\n",
              "      <td>[0.7, 0.3]</td>\n",
              "      <td>[0.5, 0.5]</td>\n",
              "      <td>[0.625, 0.375]</td>\n",
              "      <td>[0.25, 0.75]</td>\n",
              "      <td>[0.66667, 0.33333]</td>\n",
              "      <td>[0.66667, 0.33333]</td>\n",
              "      <td>[1.0, 1.0]</td>\n",
              "      <td>[0.5, 0.5]</td>\n",
              "    </tr>\n",
              "    <tr>\n",
              "      <th>0b111</th>\n",
              "      <td>[0.5, 0.5]</td>\n",
              "      <td>[0.3, 0.7]</td>\n",
              "      <td>[0.41667, 0.58333]</td>\n",
              "      <td>[0.125, 0.875]</td>\n",
              "      <td>[0.4, 0.6]</td>\n",
              "      <td>[0.4, 0.6]</td>\n",
              "      <td>[0.5, 0.5]</td>\n",
              "      <td>[1.0, 1.0]</td>\n",
              "    </tr>\n",
              "  </tbody>\n",
              "</table>\n",
              "</div>"
            ],
            "text/plain": [
              "                      0b0  ...               0b111\n",
              "0b0            [1.0, 1.0]  ...          [0.5, 0.5]\n",
              "0b1            [0.5, 0.5]  ...          [0.7, 0.3]\n",
              "0b10           [0.6, 0.4]  ...  [0.58333, 0.41667]\n",
              "0b11           [0.6, 0.4]  ...      [0.875, 0.125]\n",
              "0b100      [0.875, 0.125]  ...          [0.6, 0.4]\n",
              "0b101  [0.58333, 0.41667]  ...          [0.6, 0.4]\n",
              "0b110          [0.7, 0.3]  ...          [0.5, 0.5]\n",
              "0b111          [0.5, 0.5]  ...          [1.0, 1.0]\n",
              "\n",
              "[8 rows x 8 columns]"
            ]
          },
          "metadata": {},
          "execution_count": 487
        }
      ]
    },
    {
      "cell_type": "code",
      "metadata": {
        "colab": {
          "base_uri": "https://localhost:8080/"
        },
        "id": "ptfSpImWEz3-",
        "outputId": "e024cea0-40c8-4003-d6c3-8cb57f733ca6"
      },
      "source": [
        "def for_loop(mtx_length, n_loops):\n",
        "    if n < 0:\n",
        "        for x in range(mtx_length):\n",
        "          print(x,n_loops)\n",
        "          for_loop(mtx_length, n_loops - 1)\n",
        "    else:\n",
        "       print('done')\n",
        "\n",
        "for_loop(4, 4)\n"
      ],
      "execution_count": 508,
      "outputs": [
        {
          "output_type": "stream",
          "name": "stdout",
          "text": [
            "done\n"
          ]
        }
      ]
    },
    {
      "cell_type": "markdown",
      "metadata": {
        "id": "_pS2zGnnSk5d"
      },
      "source": [
        "#Finding the winning strategy\n",
        "\n",
        "The winning strategy for player 1 can be found by looking at every option player 2 has and finding the string that beats it.\n",
        "\n"
      ]
    },
    {
      "cell_type": "code",
      "metadata": {
        "colab": {
          "base_uri": "https://localhost:8080/"
        },
        "id": "7nRfHFMcAkoV",
        "outputId": "beb782d8-de4c-46a3-8bf0-e45fe278fd68"
      },
      "source": [
        "i_win = []\n",
        "\n",
        "for col in range(mtx_length): #each col is a string player 2 could play\n",
        "  temp = None\n",
        "  for row in range(mtx_length): #each row is a string player 1 could play\n",
        "    prob = winning_probabilities.iat[row, col]\n",
        "  \n",
        "    if temp is None and prob[0] != 1:\n",
        "      temp = [prob, row, col]\n",
        "    elif prob[0] == 1:\n",
        "      pass\n",
        "    elif temp[0][0] < prob[0]:\n",
        "      temp = [prob, row, col]\n",
        "\n",
        "  i_win.append([f'{bin_states[temp[1]]} beats {bin_states[temp[2]]}',temp[0]])\n",
        "\n",
        "#i_win_df = pd.DataFrame(i_win).T\n",
        "\n",
        "i_win\n"
      ],
      "execution_count": 488,
      "outputs": [
        {
          "output_type": "execute_result",
          "data": {
            "text/plain": [
              "[['0b100 beats 0b0', [0.875, 0.125]],\n",
              " ['0b100 beats 0b1', [0.75, 0.25]],\n",
              " ['0b1 beats 0b10', [0.66667, 0.33333]],\n",
              " ['0b1 beats 0b11', [0.66667, 0.33333]],\n",
              " ['0b110 beats 0b100', [0.66667, 0.33333]],\n",
              " ['0b110 beats 0b101', [0.66667, 0.33333]],\n",
              " ['0b11 beats 0b110', [0.75, 0.25]],\n",
              " ['0b11 beats 0b111', [0.875, 0.125]]]"
            ]
          },
          "metadata": {},
          "execution_count": 488
        }
      ]
    },
    {
      "cell_type": "markdown",
      "metadata": {
        "id": "sIUsNP5fTzPD"
      },
      "source": [
        "If there is a string that is greater than 50%, then player 1 will win most of the time if going second in response to observing player 2's string"
      ]
    },
    {
      "cell_type": "markdown",
      "metadata": {
        "id": "Lq-p0lG2j37q"
      },
      "source": [
        "#Verifying the math\n",
        "The probabilities above are made theoretically, so it would be nice to see it it can be observed"
      ]
    },
    {
      "cell_type": "code",
      "metadata": {
        "colab": {
          "base_uri": "https://localhost:8080/"
        },
        "id": "YxsJgKNDkHNk",
        "outputId": "cb459c2a-0b61-4696-dafc-74ad6f7de54c"
      },
      "source": [
        "\n",
        "num_flips = 20\n",
        "num_trials = 10000\n",
        "\n",
        "walk = np.random.randint(0,2,(num_trials,num_flips))\n",
        "\n",
        "\n",
        "def list2str(array):\n",
        "  decimals = []\n",
        "\n",
        "  if len(array.shape) == 1:\n",
        "    num_flips = array.shape[0]\n",
        "    num_trials = 1\n",
        "  else:\n",
        "    num_flips = array.shape[1]\n",
        "    num_trials = array.shape[0]\n",
        "\n",
        "  for trial in range(num_trials):\n",
        "    walk = []\n",
        "    for flip in range(3,num_flips+1):\n",
        "      subwalk = int('0b'+''.join(map(str,array[trial,(flip-3):flip])),2)\n",
        "      #subwalk = '0b'+''.join(map(str,array[trial,(flip-3):flip]))\n",
        "      walk.append(subwalk)\n",
        "    decimals.append(walk)\n",
        "\n",
        "  return np.array(decimals)\n",
        "\n",
        "def check_str(players, array, string_length=3):\n",
        "  '''\n",
        "  Input:\n",
        "  players=list of binary strings\n",
        "  array=decimal translating of random walk per subwalk\n",
        "  string_length=length of string used for the game\n",
        "  '''\n",
        "  states = get_states(2**string_length) #binary to decimal\n",
        "  bin_states = list(states.keys()) #decimal to binary\n",
        "\n",
        "  #make a dictionary from list of strings\n",
        "  count = dict.fromkeys(players,0)\n",
        "\n",
        "  for row in range(array.shape[0]):\n",
        "    for col in range(array.shape[1]):\n",
        "      sub_state = bin_states[array[row,col]] #decimal to binary\n",
        "      if sub_state in players:\n",
        "        count[sub_state] += 1\n",
        "        break\n",
        "      else:\n",
        "        assert 'Unknown Error'\n",
        "\n",
        "  total = np.sum(list(count.values()))\n",
        "\n",
        "  for i in players:\n",
        "    count[i] = count[i]/total\n",
        "  return count\n",
        "\n",
        "\n",
        "#int('0b'+''.join(map(str, walk)),2)\n",
        "\n",
        "print(check_str(['0b0','0b1','0b10'], array = list2str(walk)))\n",
        "\n"
      ],
      "execution_count": 489,
      "outputs": [
        {
          "output_type": "stream",
          "name": "stdout",
          "text": [
            "{'0b0': 0.3407288424856942, '0b1': 0.32436502359200886, '0b10': 0.33490613392229696}\n"
          ]
        }
      ]
    },
    {
      "cell_type": "markdown",
      "metadata": {
        "id": "uXdgHSfZ3P1Q"
      },
      "source": [
        "Testing out a few comparison seems to agree with theory, nice!"
      ]
    },
    {
      "cell_type": "code",
      "metadata": {
        "colab": {
          "base_uri": "https://localhost:8080/"
        },
        "id": "PTcOwsxQt8eV",
        "outputId": "72d8d9b6-8d82-4057-8786-3d16f0a46450"
      },
      "source": [
        "get_states(10).values()"
      ],
      "execution_count": 490,
      "outputs": [
        {
          "output_type": "execute_result",
          "data": {
            "text/plain": [
              "dict_values([0, 1, 2, 3, 4, 5, 6, 7, 8, 9])"
            ]
          },
          "metadata": {},
          "execution_count": 490
        }
      ]
    }
  ]
}